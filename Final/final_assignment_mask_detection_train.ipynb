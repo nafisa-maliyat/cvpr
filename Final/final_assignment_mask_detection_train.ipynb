{
  "cells": [
    {
      "cell_type": "markdown",
      "metadata": {
        "id": "view-in-github",
        "colab_type": "text"
      },
      "source": [
        "<a href=\"https://colab.research.google.com/github/nafisa-maliyat/cvpr/blob/main/Final/final_assignment_mask_detection_train.ipynb\" target=\"_parent\"><img src=\"https://colab.research.google.com/assets/colab-badge.svg\" alt=\"Open In Colab\"/></a>"
      ]
    },
    {
      "cell_type": "markdown",
      "metadata": {
        "papermill": {
          "duration": 0.018705,
          "end_time": "2020-09-13T20:29:32.913652",
          "exception": false,
          "start_time": "2020-09-13T20:29:32.894947",
          "status": "completed"
        },
        "tags": [],
        "id": "4oZP7THXZWiU"
      },
      "source": [
        "# Face Mask Detection Using Keras, Tensorflow, MobileNet, and OpenCV"
      ]
    },
    {
      "cell_type": "code",
      "execution_count": null,
      "metadata": {
        "execution": {
          "iopub.execute_input": "2020-09-13T20:29:33.102253Z",
          "iopub.status.busy": "2020-09-13T20:29:33.101462Z",
          "iopub.status.idle": "2020-09-13T20:29:49.327372Z",
          "shell.execute_reply": "2020-09-13T20:29:49.328852Z"
        },
        "id": "dmB0VnZRgu-S",
        "papermill": {
          "duration": 16.260268,
          "end_time": "2020-09-13T20:29:49.329085",
          "exception": false,
          "start_time": "2020-09-13T20:29:33.068817",
          "status": "completed"
        },
        "tags": [],
        "outputId": "a6c91165-b404-4299-f6e4-c9d1f302a3ba"
      },
      "outputs": [
        {
          "name": "stdout",
          "output_type": "stream",
          "text": [
            "Requirement already satisfied: imutils in h:\\miniconda\\envs\\cvpr\\lib\\site-packages (0.5.4)\n"
          ]
        }
      ],
      "source": [
        "# Import Libraries\n",
        "\n",
        "!pip install imutils\n",
        "\n",
        "from tensorflow.keras.preprocessing.image import ImageDataGenerator  #  imgaug\n",
        "from tensorflow.keras.applications import MobileNetV2\n",
        "from tensorflow.keras.layers import AveragePooling2D\n",
        "from tensorflow.keras.layers import Dropout\n",
        "from tensorflow.keras.layers import Flatten\n",
        "from tensorflow.keras.layers import Dense\n",
        "from tensorflow.keras.layers import Input\n",
        "from tensorflow.keras.models import Model  #for layers(CNN)\n",
        "from tensorflow.keras.optimizers import Adam\n",
        "from tensorflow.keras.applications.mobilenet_v2 import preprocess_input\n",
        "from tensorflow.keras.preprocessing.image import img_to_array\n",
        "from tensorflow.keras.preprocessing.image import load_img\n",
        "from tensorflow.keras.utils import to_categorical\n",
        "from sklearn.preprocessing import LabelBinarizer\n",
        "from sklearn.model_selection import train_test_split\n",
        "from sklearn.metrics import classification_report\n",
        "from imutils import paths\n",
        "import matplotlib.pyplot as plt\n",
        "import numpy as np\n",
        "import argparse\n",
        "import os"
      ]
    },
    {
      "cell_type": "code",
      "execution_count": null,
      "metadata": {
        "execution": {
          "iopub.execute_input": "2020-09-13T20:29:49.473484Z",
          "iopub.status.busy": "2020-09-13T20:29:49.472177Z",
          "iopub.status.idle": "2020-09-13T20:29:49.517501Z",
          "shell.execute_reply": "2020-09-13T20:29:49.518698Z"
        },
        "id": "iFFJ_Bmzgu-h",
        "papermill": {
          "duration": 0.084864,
          "end_time": "2020-09-13T20:29:49.518884",
          "exception": false,
          "start_time": "2020-09-13T20:29:49.434020",
          "status": "completed"
        },
        "tags": []
      },
      "outputs": [],
      "source": [
        "# Initializing the variables the initial learning rate, number of epochs to train for, and batch size\n",
        "\n",
        "INIT_LR = 1e-4 # Initial learning rate\n",
        "EPOCHS = 10 # Number of epochs\n",
        "BS = 10 # Batch size how m img proc\n",
        "\n",
        "imagePaths = list(paths.list_images(\"H:\\Miniconda\\cvpr_4234-master\\Mask/archive (1)\"))\n",
        "data = []\n",
        "labels = []"
      ]
    },
    {
      "cell_type": "markdown",
      "metadata": {
        "id": "5WOlCdL8ZWij"
      },
      "source": [
        "Will save in np array\n",
        "& do preproc"
      ]
    },
    {
      "cell_type": "code",
      "execution_count": null,
      "metadata": {
        "execution": {
          "iopub.execute_input": "2020-09-13T20:29:49.662273Z",
          "iopub.status.busy": "2020-09-13T20:29:49.661513Z",
          "iopub.status.idle": "2020-09-13T20:29:53.268531Z",
          "shell.execute_reply": "2020-09-13T20:29:53.267829Z"
        },
        "id": "PeYFxVvSgu-u",
        "outputId": "2b1ccd24-38c8-4261-a985-36ef61ec4a50",
        "papermill": {
          "duration": 3.648216,
          "end_time": "2020-09-13T20:29:53.268658",
          "exception": false,
          "start_time": "2020-09-13T20:29:49.620442",
          "status": "completed"
        },
        "tags": []
      },
      "outputs": [
        {
          "name": "stdout",
          "output_type": "stream",
          "text": [
            "[INFO] loading images...\n"
          ]
        }
      ],
      "source": [
        "# Loading images in the data[] and Labels[] variable\n",
        "\n",
        "# grab the list of images in our dataset directory, then initialize\n",
        "# the list of data (i.e., images) and class images\n",
        "\n",
        "print(\"[INFO] loading images...\")\n",
        "# print(len(imagePaths));\n",
        "\n",
        "# loop over the image paths\n",
        "for imagePath in imagePaths:\n",
        "    # extract the class label from the filename\n",
        "    label = imagePath.split(os.path.sep)[-2]\n",
        "    # load the input image (224x224) and preprocess it\n",
        "    image = load_img(imagePath, target_size=(224, 224))\n",
        "    image = img_to_array(image)\n",
        "    image = preprocess_input(image)\n",
        "    # update the data and labels lists, respectively\n",
        "    data.append(image)\n",
        "    labels.append(label)\n",
        "# convert the data and labels to NumPy arrays\n",
        "data = np.array(data, dtype=\"float32\")\n",
        "# print(data)\n",
        "labels = np.array(labels)\n",
        "# print(labels)"
      ]
    },
    {
      "cell_type": "code",
      "execution_count": null,
      "metadata": {
        "execution": {
          "iopub.execute_input": "2020-09-13T20:29:53.367749Z",
          "iopub.status.busy": "2020-09-13T20:29:53.367134Z",
          "iopub.status.idle": "2020-09-13T20:29:53.434720Z",
          "shell.execute_reply": "2020-09-13T20:29:53.434117Z"
        },
        "id": "Lq9V5HT_gu-6",
        "papermill": {
          "duration": 0.097172,
          "end_time": "2020-09-13T20:29:53.434885",
          "exception": false,
          "start_time": "2020-09-13T20:29:53.337713",
          "status": "completed"
        },
        "tags": []
      },
      "outputs": [],
      "source": [
        "# perform one-hot encoding on the labels\n",
        "lb = LabelBinarizer()\n",
        "labels = lb.fit_transform(labels)\n",
        "labels = to_categorical(labels)\n",
        "# partition the data into training and testing splits using 80% of\n",
        "# the data for training and the remaining 20% for testing\n",
        "(trainX, testX, trainY, testY) = train_test_split(data, labels,\n",
        "    test_size=0.20, stratify=labels, random_state=42)\n",
        "# construct the training image generator for\n",
        "# data augmentation\n",
        "aug = ImageDataGenerator(\n",
        "    rotation_range=20,   #0-20\n",
        "    zoom_range=0.15,\n",
        "    width_shift_range=0.2,\n",
        "    height_shift_range=0.2,\n",
        "    shear_range=0.15,\n",
        "    horizontal_flip=True,\n",
        "    fill_mode=\"nearest\")    #weight not being biased\n",
        "\n",
        "# print(trainX)\n",
        "# print(testX)\n",
        "# print(trainY)\n",
        "# print(testY)"
      ]
    },
    {
      "cell_type": "markdown",
      "metadata": {
        "papermill": {
          "duration": 0.022646,
          "end_time": "2020-09-13T20:29:53.481103",
          "exception": false,
          "start_time": "2020-09-13T20:29:53.458457",
          "status": "completed"
        },
        "tags": [],
        "id": "Ned4XDBOZWio"
      },
      "source": [
        "# Building Model using MobileNetV2"
      ]
    },
    {
      "cell_type": "code",
      "execution_count": null,
      "metadata": {
        "execution": {
          "iopub.execute_input": "2020-09-13T20:29:53.536055Z",
          "iopub.status.busy": "2020-09-13T20:29:53.535364Z",
          "iopub.status.idle": "2020-09-13T20:29:57.921674Z",
          "shell.execute_reply": "2020-09-13T20:29:57.921160Z"
        },
        "id": "jQFQ2wNigu_D",
        "outputId": "4954921e-3557-47c7-ade5-65bad72dda45",
        "papermill": {
          "duration": 4.417887,
          "end_time": "2020-09-13T20:29:57.921808",
          "exception": false,
          "start_time": "2020-09-13T20:29:53.503921",
          "status": "completed"
        },
        "tags": []
      },
      "outputs": [
        {
          "name": "stdout",
          "output_type": "stream",
          "text": [
            "WARNING:tensorflow:`input_shape` is undefined or non-square, or `rows` is not in [96, 128, 160, 192, 224]. Weights for input shape (224, 224) will be loaded as the default.\n"
          ]
        }
      ],
      "source": [
        "# load the MobileNetV2 network, ensuring the head FC layer sets are\n",
        "# left off\n",
        "baseModel = MobileNetV2(weights=\"imagenet\", include_top=False,\n",
        "    input_tensor=Input(shape=(224, 224, 3)))\n",
        "# construct the head of the model that will be placed on top of the\n",
        "# the base model\n",
        "headModel = baseModel.output\n",
        "headModel = AveragePooling2D(pool_size=(7, 7))(headModel)\n",
        "headModel = Flatten(name=\"flatten\")(headModel)\n",
        "headModel = Dense(128, activation=\"relu\")(headModel) #perv layer current layer f conc\n",
        "headModel = Dropout(0.5)(headModel)\n",
        "headModel = Dense(2, activation=\"softmax\")(headModel)\n",
        "# headmodel pass..layer & retrain\n",
        "# place the head FC model on top of the base model (this will become\n",
        "# the actual model we will train)\n",
        "model = Model(inputs=baseModel.input, outputs=headModel)\n",
        "# loop over all layers in the base model and freeze them so they will\n",
        "# *not* be updated during the first training process\n",
        "for layer in baseModel.layers:\n",
        "    layer.trainable = False"
      ]
    },
    {
      "cell_type": "markdown",
      "metadata": {
        "papermill": {
          "duration": 0.024019,
          "end_time": "2020-09-13T20:29:57.970609",
          "exception": false,
          "start_time": "2020-09-13T20:29:57.946590",
          "status": "completed"
        },
        "tags": [],
        "id": "ANGm_v8_ZWiq"
      },
      "source": [
        "# Compiling Model"
      ]
    },
    {
      "cell_type": "code",
      "execution_count": null,
      "metadata": {
        "execution": {
          "iopub.execute_input": "2020-09-13T20:29:58.036362Z",
          "iopub.status.busy": "2020-09-13T20:29:58.025693Z",
          "iopub.status.idle": "2020-09-13T20:31:11.270230Z",
          "shell.execute_reply": "2020-09-13T20:31:11.269650Z"
        },
        "id": "CKDvAdXYgu_N",
        "outputId": "5a0eb278-c6e1-420a-8567-6c3ae44fdb45",
        "papermill": {
          "duration": 73.27525,
          "end_time": "2020-09-13T20:31:11.270366",
          "exception": false,
          "start_time": "2020-09-13T20:29:57.995116",
          "status": "completed"
        },
        "tags": []
      },
      "outputs": [
        {
          "name": "stdout",
          "output_type": "stream",
          "text": [
            "[INFO] compiling model...\n",
            "[INFO] training head...\n",
            "Epoch 1/10\n"
          ]
        },
        {
          "name": "stderr",
          "output_type": "stream",
          "text": [
            "h:\\Miniconda\\envs\\cvpr\\lib\\site-packages\\keras\\optimizers\\optimizer_v2\\adam.py:114: UserWarning: The `lr` argument is deprecated, use `learning_rate` instead.\n",
            "  super().__init__(name, **kwargs)\n"
          ]
        },
        {
          "name": "stdout",
          "output_type": "stream",
          "text": [
            "31/31 [==============================] - 6s 118ms/step - loss: 0.5938 - accuracy: 0.7370 - val_loss: 0.3665 - val_accuracy: 0.9500\n",
            "Epoch 2/10\n",
            "31/31 [==============================] - 3s 93ms/step - loss: 0.3450 - accuracy: 0.9221 - val_loss: 0.2162 - val_accuracy: 0.9750\n",
            "Epoch 3/10\n",
            "31/31 [==============================] - 3s 93ms/step - loss: 0.2232 - accuracy: 0.9516 - val_loss: 0.1466 - val_accuracy: 0.9875\n",
            "Epoch 4/10\n",
            "31/31 [==============================] - 3s 93ms/step - loss: 0.1744 - accuracy: 0.9643 - val_loss: 0.1145 - val_accuracy: 0.9875\n",
            "Epoch 5/10\n",
            "31/31 [==============================] - 3s 93ms/step - loss: 0.1092 - accuracy: 0.9903 - val_loss: 0.0868 - val_accuracy: 0.9875\n",
            "Epoch 6/10\n",
            "31/31 [==============================] - 3s 96ms/step - loss: 0.0957 - accuracy: 0.9774 - val_loss: 0.0752 - val_accuracy: 0.9875\n",
            "Epoch 7/10\n",
            "31/31 [==============================] - 3s 110ms/step - loss: 0.0680 - accuracy: 0.9935 - val_loss: 0.0630 - val_accuracy: 0.9875\n",
            "Epoch 8/10\n",
            "31/31 [==============================] - 3s 97ms/step - loss: 0.0700 - accuracy: 0.9838 - val_loss: 0.0547 - val_accuracy: 0.9875\n",
            "Epoch 9/10\n",
            "31/31 [==============================] - 3s 94ms/step - loss: 0.0537 - accuracy: 0.9968 - val_loss: 0.0495 - val_accuracy: 0.9875\n",
            "Epoch 10/10\n",
            "31/31 [==============================] - 3s 92ms/step - loss: 0.0492 - accuracy: 0.9935 - val_loss: 0.0442 - val_accuracy: 0.9875\n"
          ]
        }
      ],
      "source": [
        "# compile our model\n",
        "print(\"[INFO] compiling model...\")\n",
        "opt = Adam(lr=INIT_LR, decay=INIT_LR / EPOCHS)\n",
        "model.compile(loss=\"binary_crossentropy\", optimizer=opt,\n",
        "    metrics=[\"accuracy\"])\n",
        "# train the head of the network\n",
        "print(\"[INFO] training head...\")\n",
        "H = model.fit(\n",
        "    aug.flow(trainX, trainY, batch_size=BS),\n",
        "    steps_per_epoch=len(trainX) // BS,\n",
        "    validation_data=(testX, testY),\n",
        "    validation_steps=len(testX) // BS,\n",
        "    epochs=EPOCHS)"
      ]
    },
    {
      "cell_type": "markdown",
      "metadata": {
        "papermill": {
          "duration": 0.095705,
          "end_time": "2020-09-13T20:31:11.463926",
          "exception": false,
          "start_time": "2020-09-13T20:31:11.368221",
          "status": "completed"
        },
        "tags": [],
        "id": "bXJ7f9gNZWir"
      },
      "source": [
        "# Make Prediction and Saving Model"
      ]
    },
    {
      "cell_type": "code",
      "execution_count": null,
      "metadata": {
        "execution": {
          "iopub.execute_input": "2020-09-13T20:31:11.664951Z",
          "iopub.status.busy": "2020-09-13T20:31:11.663961Z",
          "iopub.status.idle": "2020-09-13T20:31:12.645910Z",
          "shell.execute_reply": "2020-09-13T20:31:12.647125Z"
        },
        "id": "QmIsvueagu_V",
        "outputId": "9c4f7cb2-4d96-423d-9312-b9cce067fceb",
        "papermill": {
          "duration": 1.087127,
          "end_time": "2020-09-13T20:31:12.647325",
          "exception": false,
          "start_time": "2020-09-13T20:31:11.560198",
          "status": "completed"
        },
        "tags": []
      },
      "outputs": [
        {
          "name": "stdout",
          "output_type": "stream",
          "text": [
            "[INFO] evaluating network...\n",
            "8/8 [==============================] - 1s 19ms/step\n",
            "              precision    recall  f1-score   support\n",
            "\n",
            "   with_mask       0.98      1.00      0.99        40\n",
            "without_mask       1.00      0.97      0.99        40\n",
            "\n",
            "    accuracy                           0.99        80\n",
            "   macro avg       0.99      0.99      0.99        80\n",
            "weighted avg       0.99      0.99      0.99        80\n",
            "\n"
          ]
        }
      ],
      "source": [
        "# make predictions on the testing set\n",
        "print(\"[INFO] evaluating network...\")\n",
        "predIdxs = model.predict(testX, batch_size=BS)\n",
        "# print(predIdxs)\n",
        "\n",
        "\n",
        "# for each image in the testing set we need to find the index of the\n",
        "# label with corresponding largest predicted probability\n",
        "predIdxs = np.argmax(predIdxs, axis=1)\n",
        "# show a nicely formatted classification report\n",
        "print(classification_report(testY.argmax(axis=1), predIdxs, target_names=lb.classes_))\n",
        "# serialize the model to disk\n",
        "# print(\"[INFO] saving mask detector model...\")\n",
        "model.save(\"./mask_detector.model\", save_format=\"h5\")"
      ]
    },
    {
      "cell_type": "markdown",
      "metadata": {
        "papermill": {
          "duration": 0.098144,
          "end_time": "2020-09-13T20:31:12.849655",
          "exception": false,
          "start_time": "2020-09-13T20:31:12.751511",
          "status": "completed"
        },
        "tags": [],
        "id": "MJtdxZBfZWis"
      },
      "source": [
        "# Plot the training loss and accuracy"
      ]
    },
    {
      "cell_type": "code",
      "execution_count": null,
      "metadata": {
        "execution": {
          "iopub.execute_input": "2020-09-13T20:31:13.061771Z",
          "iopub.status.busy": "2020-09-13T20:31:13.054604Z",
          "iopub.status.idle": "2020-09-13T20:31:13.314302Z",
          "shell.execute_reply": "2020-09-13T20:31:13.314814Z"
        },
        "id": "xPIa89Drgu_e",
        "outputId": "2266c284-98de-452a-c157-5e6c282a2dd2",
        "papermill": {
          "duration": 0.367075,
          "end_time": "2020-09-13T20:31:13.314941",
          "exception": false,
          "start_time": "2020-09-13T20:31:12.947866",
          "status": "completed"
        },
        "tags": []
      },
      "outputs": [
        {
          "data": {
            "image/png": "[encoded data removed]",
            "text/plain": [
              "<Figure size 640x480 with 1 Axes>"
            ]
          },
          "metadata": {},
          "output_type": "display_data"
        }
      ],
      "source": [
        "# plot the training loss and accuracy\n",
        "N = EPOCHS\n",
        "plt.style.use(\"ggplot\")\n",
        "plt.figure()\n",
        "plt.plot(np.arange(0, N), H.history[\"loss\"], label=\"train_loss\")\n",
        "plt.plot(np.arange(0, N), H.history[\"val_loss\"], label=\"val_loss\")\n",
        "plt.plot(np.arange(0, N), H.history[\"accuracy\"], label=\"train_acc\")\n",
        "plt.plot(np.arange(0, N), H.history[\"val_accuracy\"], label=\"val_acc\")\n",
        "plt.title(\"Training Loss and Accuracy\")\n",
        "plt.xlabel(\"Epoch #\")\n",
        "plt.ylabel(\"Loss/Accuracy\")\n",
        "plt.legend(loc=\"lower left\")\n",
        "plt.savefig(\"./plot.png\")"
      ]
    }
  ],
  "metadata": {
    "kernelspec": {
      "display_name": "Python 3",
      "language": "python",
      "name": "python3"
    },
    "language_info": {
      "codemirror_mode": {
        "name": "ipython",
        "version": 3
      },
      "file_extension": ".py",
      "mimetype": "text/x-python",
      "name": "python",
      "nbconvert_exporter": "python",
      "pygments_lexer": "ipython3",
      "version": "3.9.16"
    },
    "papermill": {
      "duration": 114.829867,
      "end_time": "2020-09-13T20:31:23.603511",
      "environment_variables": {},
      "exception": null,
      "input_path": "__notebook__.ipynb",
      "output_path": "__notebook__.ipynb",
      "parameters": {},
      "start_time": "2020-09-13T20:29:28.773644",
      "version": "2.1.0"
    },
    "colab": {
      "provenance": [],
      "include_colab_link": true
    }
  },
  "nbformat": 4,
  "nbformat_minor": 0
}